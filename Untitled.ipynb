{
 "cells": [
  {
   "cell_type": "markdown",
   "id": "f2468d3e",
   "metadata": {},
   "source": [
    "## Step1. Unzip the file and load into Dataframes"
   ]
  },
  {
   "cell_type": "code",
   "execution_count": 6,
   "id": "60b986de",
   "metadata": {},
   "outputs": [
    {
     "name": "stdout",
     "output_type": "stream",
     "text": [
      "\n",
      "📁 account_activity.csv\n",
      "   → Rows: 1000\n",
      "   → Columns: 3\n",
      "   → Column Names: ['CustomerID', 'AccountBalance', 'LastLogin']\n",
      "\n",
      "📁 customer_data.csv\n",
      "   → Rows: 1000\n",
      "   → Columns: 4\n",
      "   → Column Names: ['CustomerID', 'Name', 'Age', 'Address']\n",
      "\n",
      "📁 fraud_indicators.csv\n",
      "   → Rows: 1000\n",
      "   → Columns: 2\n",
      "   → Column Names: ['TransactionID', 'FraudIndicator']\n",
      "\n",
      "📁 suspicious_activity.csv\n",
      "   → Rows: 1000\n",
      "   → Columns: 2\n",
      "   → Column Names: ['CustomerID', 'SuspiciousFlag']\n",
      "\n",
      "📁 merchant_data.csv\n",
      "   → Rows: 1000\n",
      "   → Columns: 3\n",
      "   → Column Names: ['MerchantID', 'MerchantName', 'Location']\n",
      "\n",
      "📁 transaction_category_labels.csv\n",
      "   → Rows: 1000\n",
      "   → Columns: 2\n",
      "   → Column Names: ['TransactionID', 'Category']\n",
      "\n",
      "📁 amount_data.csv\n",
      "   → Rows: 1000\n",
      "   → Columns: 2\n",
      "   → Column Names: ['TransactionID', 'TransactionAmount']\n",
      "\n",
      "📁 anomaly_scores.csv\n",
      "   → Rows: 1000\n",
      "   → Columns: 2\n",
      "   → Column Names: ['TransactionID', 'AnomalyScore']\n",
      "\n",
      "📁 transaction_metadata.csv\n",
      "   → Rows: 1000\n",
      "   → Columns: 3\n",
      "   → Column Names: ['TransactionID', 'Timestamp', 'MerchantID']\n",
      "\n",
      "📁 transaction_records.csv\n",
      "   → Rows: 1000\n",
      "   → Columns: 3\n",
      "   → Column Names: ['TransactionID', 'Amount', 'CustomerID']\n"
     ]
    }
   ],
   "source": [
    "import os\n",
    "import pandas as pd\n",
    "from zipfile import ZipFile\n",
    "\n",
    "# Define paths\n",
    "zip_path = 'archive (27).zip'  # Since you're in the home directory\n",
    "extract_path = 'extracted_files'\n",
    "\n",
    "# Extract ZIP file\n",
    "with ZipFile(zip_path, 'r') as zip_ref:\n",
    "    zip_ref.extractall(extract_path)\n",
    "\n",
    "# Load CSV files\n",
    "dataframes = {}\n",
    "summaries = []\n",
    "\n",
    "for root, dirs, files in os.walk(extract_path):\n",
    "    for file in files:\n",
    "        if file.endswith('.csv'):\n",
    "            path = os.path.join(root, file)\n",
    "            df = pd.read_csv(path)\n",
    "            dataframes[file] = df\n",
    "            summaries.append({\n",
    "                'file_name': file,\n",
    "                'rows': df.shape[0],\n",
    "                'columns': df.shape[1],\n",
    "                'column_names': list(df.columns)\n",
    "            })\n",
    "\n",
    "# Print summaries\n",
    "for summary in summaries:\n",
    "    print(f\"\\n📁 {summary['file_name']}\")\n",
    "    print(f\"   → Rows: {summary['rows']}\")\n",
    "    print(f\"   → Columns: {summary['columns']}\")\n",
    "    print(f\"   → Column Names: {summary['column_names']}\")\n"
   ]
  },
  {
   "cell_type": "markdown",
   "id": "e53e33db",
   "metadata": {},
   "source": [
    "## Step2.  Merge Into a Unified Transaction Dataset"
   ]
  },
  {
   "cell_type": "code",
   "execution_count": 7,
   "id": "639194fc",
   "metadata": {},
   "outputs": [
    {
     "name": "stdout",
     "output_type": "stream",
     "text": [
      "✅ Unified dataset created.\n",
      "   TransactionID     Amount  CustomerID            Timestamp  MerchantID  \\\n",
      "0              1  55.530334        1952  2022-01-01 00:00:00        2701   \n",
      "1              2  12.881180        1027  2022-01-01 01:00:00        2070   \n",
      "2              3  50.176322        1955  2022-01-01 02:00:00        2238   \n",
      "3              4  41.634001        1796  2022-01-01 03:00:00        2879   \n",
      "4              5  78.122853        1946  2022-01-01 04:00:00        2966   \n",
      "\n",
      "    MerchantName       Location Category  TransactionAmount  AnomalyScore  \\\n",
      "0  Merchant 2701  Location 2701    Other          79.413607      0.686699   \n",
      "1  Merchant 2070  Location 2070   Online          12.053087      0.081749   \n",
      "2  Merchant 2238  Location 2238   Travel          33.310357      0.023857   \n",
      "3  Merchant 2879  Location 2879   Travel          46.121117      0.876994   \n",
      "4  Merchant 2966  Location 2966    Other          54.051618      0.034059   \n",
      "\n",
      "   FraudIndicator           Name  Age       Address  AccountBalance  \\\n",
      "0               0  Customer 1952   50  Address 1952     2869.689912   \n",
      "1               0  Customer 1027   46  Address 1027     9527.947107   \n",
      "2               0  Customer 1955   34  Address 1955     9288.355525   \n",
      "3               0  Customer 1796   33  Address 1796     5588.049942   \n",
      "4               0  Customer 1946   18  Address 1946     7324.785332   \n",
      "\n",
      "    LastLogin  SuspiciousFlag  \n",
      "0  2024-08-09               0  \n",
      "1  2022-01-27               0  \n",
      "2  2024-08-12               0  \n",
      "3  2024-03-06               0  \n",
      "4  2024-08-03               0  \n"
     ]
    }
   ],
   "source": [
    "# Base transaction-level dataset\n",
    "transactions = dataframes['transaction_records.csv']\n",
    "\n",
    "# Merge with related datasets\n",
    "transactions = transactions.merge(dataframes['transaction_metadata.csv'], on='TransactionID', how='left')\n",
    "transactions = transactions.merge(dataframes['merchant_data.csv'], on='MerchantID', how='left')\n",
    "transactions = transactions.merge(dataframes['transaction_category_labels.csv'], on='TransactionID', how='left')\n",
    "transactions = transactions.merge(dataframes['amount_data.csv'], on='TransactionID', how='left')\n",
    "transactions = transactions.merge(dataframes['anomaly_scores.csv'], on='TransactionID', how='left')\n",
    "transactions = transactions.merge(dataframes['fraud_indicators.csv'], on='TransactionID', how='left')\n",
    "\n",
    "# Add customer data\n",
    "transactions = transactions.merge(dataframes['customer_data.csv'], on='CustomerID', how='left')\n",
    "transactions = transactions.merge(dataframes['account_activity.csv'], on='CustomerID', how='left')\n",
    "transactions = transactions.merge(dataframes['suspicious_activity.csv'], on='CustomerID', how='left')\n",
    "\n",
    "print(\"✅ Unified dataset created.\")\n",
    "print(transactions.head())\n"
   ]
  },
  {
   "cell_type": "markdown",
   "id": "c106af16",
   "metadata": {},
   "source": [
    "##  Step3. Clean and Engineer Features"
   ]
  },
  {
   "cell_type": "code",
   "execution_count": 8,
   "id": "a04f20c7",
   "metadata": {},
   "outputs": [],
   "source": [
    "# Convert dates\n",
    "transactions['Timestamp'] = pd.to_datetime(transactions['Timestamp'], errors='coerce')\n",
    "transactions['LastLogin'] = pd.to_datetime(transactions['LastLogin'], errors='coerce')\n",
    "\n",
    "# Feature: Time-based\n",
    "transactions['Hour'] = transactions['Timestamp'].dt.hour\n",
    "transactions['Weekday'] = transactions['Timestamp'].dt.dayofweek  # 0 = Monday\n",
    "\n",
    "# Feature: Time since last login (in hours)\n",
    "transactions['LoginLag'] = (transactions['Timestamp'] - transactions['LastLogin']).dt.total_seconds() / 3600\n",
    "\n",
    "# Feature: Ratio of amount to account balance\n",
    "transactions['AmountToBalanceRatio'] = transactions['TransactionAmount'] / (transactions['AccountBalance'] + 1)\n",
    "\n",
    "# Replace inf or NaN values that may result\n",
    "transactions.replace([float('inf'), -float('inf')], 0, inplace=True)\n",
    "transactions.fillna(0, inplace=True)\n"
   ]
  },
  {
   "cell_type": "markdown",
   "id": "40591be2",
   "metadata": {},
   "source": [
    "## STEP 4: Fraud Insights & Trends"
   ]
  },
  {
   "cell_type": "code",
   "execution_count": 9,
   "id": "828f13ac",
   "metadata": {},
   "outputs": [
    {
     "data": {
      "image/png": "[encoded data removed]",
      "text/plain": [
       "<Figure size 640x480 with 1 Axes>"
      ]
     },
     "metadata": {},
     "output_type": "display_data"
    },
    {
     "data": {
      "image/png": "[encoded data removed]",
      "text/plain": [
       "<Figure size 640x480 with 1 Axes>"
      ]
     },
     "metadata": {},
     "output_type": "display_data"
    },
    {
     "data": {
      "image/png": "[encoded data removed]",
      "text/plain": [
       "<Figure size 640x480 with 1 Axes>"
      ]
     },
     "metadata": {},
     "output_type": "display_data"
    }
   ],
   "source": [
    "import seaborn as sns\n",
    "import matplotlib.pyplot as plt\n",
    "\n",
    "# Plot fraud count\n",
    "sns.countplot(x='FraudIndicator', data=transactions)\n",
    "plt.title('Fraud vs. Non-Fraud Count')\n",
    "plt.show()\n",
    "\n",
    "# AnomalyScore vs. Fraud\n",
    "sns.boxplot(x='FraudIndicator', y='AnomalyScore', data=transactions)\n",
    "plt.title('Anomaly Score by Fraud Label')\n",
    "plt.show()\n",
    "\n",
    "# Fraud by Hour\n",
    "fraud_by_hour = transactions.groupby('Hour')['FraudIndicator'].mean()\n",
    "fraud_by_hour.plot(kind='bar', title='Fraud Rate by Hour')\n",
    "plt.ylabel('Fraud Rate')\n",
    "plt.show()\n"
   ]
  },
  {
   "cell_type": "markdown",
   "id": "fbbcf3d8",
   "metadata": {},
   "source": [
    "## Step5. Check for class imbalance"
   ]
  },
  {
   "cell_type": "code",
   "execution_count": 12,
   "id": "8b94ac85",
   "metadata": {},
   "outputs": [
    {
     "name": "stdout",
     "output_type": "stream",
     "text": [
      "FraudIndicator\n",
      "0    0.955\n",
      "1    0.045\n",
      "Name: proportion, dtype: float64\n"
     ]
    }
   ],
   "source": [
    "print(transactions['FraudIndicator'].value_counts(normalize=True))\n"
   ]
  },
  {
   "cell_type": "markdown",
   "id": "e842298f",
   "metadata": {},
   "source": [
    "So about 4.5% of this data is fraud,definitely imbalanced.\n",
    "\n",
    "To build a reliable fraud detection model, i need to apply  the most practical approach: oversampling using SMOTE."
   ]
  },
  {
   "cell_type": "markdown",
   "id": "37f0178e",
   "metadata": {},
   "source": [
    "## Step6. Train The Model"
   ]
  },
  {
   "cell_type": "code",
   "execution_count": 13,
   "id": "8612d6f6",
   "metadata": {
    "scrolled": true
   },
   "outputs": [
    {
     "name": "stdout",
     "output_type": "stream",
     "text": [
      "After SMOTE: FraudIndicator\n",
      "0    764\n",
      "1    764\n",
      "Name: count, dtype: int64\n",
      "              precision    recall  f1-score   support\n",
      "\n",
      "           0       0.95      0.87      0.91       191\n",
      "           1       0.00      0.00      0.00         9\n",
      "\n",
      "    accuracy                           0.83       200\n",
      "   macro avg       0.47      0.43      0.45       200\n",
      "weighted avg       0.91      0.83      0.87       200\n",
      "\n"
     ]
    },
    {
     "data": {
      "text/plain": [
       "<sklearn.metrics._plot.confusion_matrix.ConfusionMatrixDisplay at 0x1fc929fe370>"
      ]
     },
     "execution_count": 13,
     "metadata": {},
     "output_type": "execute_result"
    },
    {
     "data": {
      "image/png": "[encoded data removed]",
      "text/plain": [
       "<Figure size 640x480 with 2 Axes>"
      ]
     },
     "metadata": {},
     "output_type": "display_data"
    }
   ],
   "source": [
    "from imblearn.over_sampling import SMOTE\n",
    "from sklearn.ensemble import RandomForestClassifier\n",
    "from sklearn.metrics import classification_report, confusion_matrix, ConfusionMatrixDisplay\n",
    "\n",
    "# Apply SMOTE to training set\n",
    "smote = SMOTE(random_state=42)\n",
    "X_resampled, y_resampled = smote.fit_resample(X_train, y_train)\n",
    "\n",
    "print(\"After SMOTE:\", pd.Series(y_resampled).value_counts())\n",
    "\n",
    "# Train model on resampled data\n",
    "model = RandomForestClassifier(n_estimators=100, random_state=42)\n",
    "model.fit(X_resampled, y_resampled)\n",
    "\n",
    "# Predict and evaluate\n",
    "y_pred = model.predict(X_test)\n",
    "print(classification_report(y_test, y_pred, zero_division=0))\n",
    "\n",
    "# Confusion matrix\n",
    "cm = confusion_matrix(y_test, y_pred)\n",
    "disp = ConfusionMatrixDisplay(confusion_matrix=cm, display_labels=['Legit', 'Fraud'])\n",
    "disp.plot()\n"
   ]
  },
  {
   "cell_type": "code",
   "execution_count": 14,
   "id": "b964751b",
   "metadata": {},
   "outputs": [
    {
     "name": "stdout",
     "output_type": "stream",
     "text": [
      "FraudIndicator\n",
      "0    191\n",
      "1      9\n",
      "Name: count, dtype: int64\n"
     ]
    }
   ],
   "source": [
    "print(y_test.value_counts())\n"
   ]
  },
  {
   "cell_type": "markdown",
   "id": "c85c8885",
   "metadata": {},
   "source": [
    "Despite SMOTE creating synthetic frauds, the model is still predicting no frauds (label = 1) on unseen data.\n",
    "\n",
    "Why this happens:\n",
    "\n",
    "Test set is still imbalanced (only 9 frauds out of 200)\n",
    "\n",
    "The model overfits to synthetic fraud patterns that don't generalize\n",
    "\n",
    "Fraud patterns may be very subtle, requiring more informative features or better algorithms"
   ]
  },
  {
   "cell_type": "code",
   "execution_count": 15,
   "id": "0419a7cf",
   "metadata": {},
   "outputs": [
    {
     "name": "stdout",
     "output_type": "stream",
     "text": [
      "              precision    recall  f1-score   support\n",
      "\n",
      "           0       0.95      0.87      0.91       191\n",
      "           1       0.00      0.00      0.00         9\n",
      "\n",
      "    accuracy                           0.83       200\n",
      "   macro avg       0.47      0.44      0.46       200\n",
      "weighted avg       0.91      0.83      0.87       200\n",
      "\n"
     ]
    },
    {
     "name": "stderr",
     "output_type": "stream",
     "text": [
      "C:\\Users\\Lenovo\\anaconda3\\envs\\learn-env\\lib\\site-packages\\xgboost\\core.py:158: UserWarning: [07:46:57] WARNING: C:\\buildkite-agent\\builds\\buildkite-windows-cpu-autoscaling-group-i-0c55ff5f71b100e98-1\\xgboost\\xgboost-ci-windows\\src\\learner.cc:740: \n",
      "Parameters: { \"use_label_encoder\" } are not used.\n",
      "\n",
      "  warnings.warn(smsg, UserWarning)\n"
     ]
    }
   ],
   "source": [
    "from xgboost import XGBClassifier\n",
    "\n",
    "xgb = XGBClassifier(scale_pos_weight=10, use_label_encoder=False, eval_metric='logloss')\n",
    "xgb.fit(X_resampled, y_resampled)\n",
    "\n",
    "y_pred = xgb.predict(X_test)\n",
    "print(classification_report(y_test, y_pred, zero_division=0))\n"
   ]
  },
  {
   "cell_type": "code",
   "execution_count": null,
   "id": "e34f19dc",
   "metadata": {},
   "outputs": [],
   "source": []
  },
  {
   "cell_type": "code",
   "execution_count": null,
   "id": "4214c548",
   "metadata": {},
   "outputs": [],
   "source": []
  },
  {
   "cell_type": "code",
   "execution_count": null,
   "id": "62c35ce1",
   "metadata": {},
   "outputs": [],
   "source": []
  },
  {
   "cell_type": "code",
   "execution_count": null,
   "id": "a4f20e53",
   "metadata": {},
   "outputs": [],
   "source": []
  },
  {
   "cell_type": "code",
   "execution_count": null,
   "id": "7ea5fd71",
   "metadata": {},
   "outputs": [],
   "source": []
  },
  {
   "cell_type": "code",
   "execution_count": null,
   "id": "2ca1be32",
   "metadata": {},
   "outputs": [],
   "source": []
  },
  {
   "cell_type": "code",
   "execution_count": null,
   "id": "8ee47588",
   "metadata": {},
   "outputs": [],
   "source": []
  },
  {
   "cell_type": "code",
   "execution_count": null,
   "id": "bec965a4",
   "metadata": {},
   "outputs": [],
   "source": []
  },
  {
   "cell_type": "code",
   "execution_count": null,
   "id": "4e2888a5",
   "metadata": {},
   "outputs": [],
   "source": []
  },
  {
   "cell_type": "code",
   "execution_count": null,
   "id": "2cbf2f9a",
   "metadata": {},
   "outputs": [],
   "source": []
  }
 ],
 "metadata": {
  "kernelspec": {
   "display_name": "Python (learn-env)",
   "language": "python",
   "name": "learn-env"
  },
  "language_info": {
   "codemirror_mode": {
    "name": "ipython",
    "version": 3
   },
   "file_extension": ".py",
   "mimetype": "text/x-python",
   "name": "python",
   "nbconvert_exporter": "python",
   "pygments_lexer": "ipython3",
   "version": "3.8.5"
  }
 },
 "nbformat": 4,
 "nbformat_minor": 5
}
